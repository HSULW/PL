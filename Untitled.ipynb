{
 "cells": [
  {
   "cell_type": "code",
   "execution_count": 2,
   "id": "0b4c3e4f",
   "metadata": {},
   "outputs": [],
   "source": [
    "import requests\n",
    "from bs4 import BeautifulSoup\n",
    "\n",
    "url = 'https://kma.kkbox.com/charts/weekly/newrelease?terr=tw&lang=tc&cate=297'\n",
    "response = requests.get(url=url)\n",
    "soup = BeautifulSoup(response.text, 'lxml')"
   ]
  },
  {
   "cell_type": "code",
   "execution_count": 18,
   "id": "87b233a1",
   "metadata": {},
   "outputs": [],
   "source": [
    "info_items = soup.find_all('div', 'charts-list')\n",
    "for item in info_items:\n",
    "    song = item.find('span', 'charts-list-song').a.text.strip()\n",
    "    sinnger = item.find('span', 'charts-list-artist').a.text.strip()\n",
    "    date = item.find('span', 'charts-list-date').text.split('：')[-1].strip()\n",
    "    \n",
    "    print(data)"
   ]
  },
  {
   "cell_type": "code",
   "execution_count": 19,
   "id": "8511b448",
   "metadata": {},
   "outputs": [],
   "source": [
    "import json\n",
    "\n",
    "with open('result.json', 'w',encoding='utf-8') as f:\n",
    "    f.write(str(data['List']))"
   ]
  },
  {
   "cell_type": "code",
   "execution_count": 21,
   "id": "4c2ec2fc",
   "metadata": {},
   "outputs": [],
   "source": [
    "import csv\n",
    "\n",
    "info_items = soup.find_all('div', 'charts-list')\n",
    "\n",
    "with open('HW3.csv', 'w', encoding='utf-8', newline='') as csv_file:\n",
    "    \n",
    "    csv_writer = csv.writer(csv_file)\n",
    "    csv_writer.writerow(['熱榜歌曲', '歌手名', '發行時間'])\n",
    "\n",
    "    for item in info_items:\n",
    "\n",
    "        song = item.find('span', 'charts-list-song').a.text.strip()\n",
    "        sinnger = item.find('span', 'charts-list-artist').a.text.strip()\n",
    "        date = item.find('span', 'charts-list-date').text.split('：')[-1].strip()\n",
    "        \n",
    "        csv_writer.writerow(data)"
   ]
  },
  {
   "cell_type": "code",
   "execution_count": null,
   "id": "9ae59d29",
   "metadata": {},
   "outputs": [],
   "source": []
  }
 ],
 "metadata": {
  "kernelspec": {
   "display_name": "Python 3 (ipykernel)",
   "language": "python",
   "name": "python3"
  },
  "language_info": {
   "codemirror_mode": {
    "name": "ipython",
    "version": 3
   },
   "file_extension": ".py",
   "mimetype": "text/x-python",
   "name": "python",
   "nbconvert_exporter": "python",
   "pygments_lexer": "ipython3",
   "version": "3.9.12"
  }
 },
 "nbformat": 4,
 "nbformat_minor": 5
}
