{
 "cells": [
  {
   "cell_type": "code",
   "execution_count": 10,
   "id": "f008f242",
   "metadata": {},
   "outputs": [
    {
     "data": {
      "text/html": [
       "<div>\n",
       "<style scoped>\n",
       "    .dataframe tbody tr th:only-of-type {\n",
       "        vertical-align: middle;\n",
       "    }\n",
       "\n",
       "    .dataframe tbody tr th {\n",
       "        vertical-align: top;\n",
       "    }\n",
       "\n",
       "    .dataframe thead th {\n",
       "        text-align: right;\n",
       "    }\n",
       "</style>\n",
       "<table border=\"1\" class=\"dataframe\">\n",
       "  <thead>\n",
       "    <tr style=\"text-align: right;\">\n",
       "      <th></th>\n",
       "      <th>縣市</th>\n",
       "      <th>政黨</th>\n",
       "      <th>當選人</th>\n",
       "    </tr>\n",
       "  </thead>\n",
       "  <tbody>\n",
       "    <tr>\n",
       "      <th>0</th>\n",
       "      <td>台北市</td>\n",
       "      <td>國民黨</td>\n",
       "      <td>蔣萬安</td>\n",
       "    </tr>\n",
       "    <tr>\n",
       "      <th>1</th>\n",
       "      <td>新北市</td>\n",
       "      <td>國民黨</td>\n",
       "      <td>侯友宜</td>\n",
       "    </tr>\n",
       "    <tr>\n",
       "      <th>2</th>\n",
       "      <td>桃園市</td>\n",
       "      <td>國民黨</td>\n",
       "      <td>張善政</td>\n",
       "    </tr>\n",
       "    <tr>\n",
       "      <th>3</th>\n",
       "      <td>台中市</td>\n",
       "      <td>國民黨</td>\n",
       "      <td>盧秀燕</td>\n",
       "    </tr>\n",
       "    <tr>\n",
       "      <th>4</th>\n",
       "      <td>台南市</td>\n",
       "      <td>民進黨</td>\n",
       "      <td>黃偉哲</td>\n",
       "    </tr>\n",
       "  </tbody>\n",
       "</table>\n",
       "</div>"
      ],
      "text/plain": [
       "    縣市   政黨  當選人\n",
       "0  台北市  國民黨  蔣萬安\n",
       "1  新北市  國民黨  侯友宜\n",
       "2  桃園市  國民黨  張善政\n",
       "3  台中市  國民黨  盧秀燕\n",
       "4  台南市  民進黨  黃偉哲"
      ]
     },
     "execution_count": 10,
     "metadata": {},
     "output_type": "execute_result"
    }
   ],
   "source": [
    "#比較2022與2018縣市長選舉結果\n",
    "\n",
    "import pandas as pd\n",
    "\n",
    "election2022 = pd.read_csv(\"2022.csv\")\n",
    "election2018 = pd.read_csv(\"20188.csv\")\n",
    "election2022.head()"
   ]
  },
  {
   "cell_type": "code",
   "execution_count": 17,
   "id": "1f931430",
   "metadata": {},
   "outputs": [
    {
     "data": {
      "text/plain": [
       "{'侯友宜',\n",
       " '周春米',\n",
       " '張善政',\n",
       " '張麗善',\n",
       " '徐榛蔚',\n",
       " '林姿妙',\n",
       " '楊文科',\n",
       " '王忠銘',\n",
       " '王惠美',\n",
       " '盧秀燕',\n",
       " '翁章梁',\n",
       " '蔣萬安',\n",
       " '許淑華',\n",
       " '謝國樑',\n",
       " '鍾東錦',\n",
       " '陳光復',\n",
       " '陳其邁',\n",
       " '陳福海',\n",
       " '饒慶鈴',\n",
       " '高虹安',\n",
       " '黃偉哲',\n",
       " '黃敏惠'}"
      ]
     },
     "execution_count": 17,
     "metadata": {},
     "output_type": "execute_result"
    }
   ],
   "source": [
    "e22 = set(election2022['當選人'])\n",
    "e18 = set(election2018['當選人'])\n",
    "e22 #印出2022大選當選人"
   ]
  },
  {
   "cell_type": "code",
   "execution_count": 18,
   "id": "17171112",
   "metadata": {},
   "outputs": [
    {
     "data": {
      "text/plain": [
       "{'侯友宜',\n",
       " '劉增應',\n",
       " '張麗善',\n",
       " '徐榛蔚',\n",
       " '徐耀昌',\n",
       " '林右昌',\n",
       " '林姿妙',\n",
       " '林明溱',\n",
       " '林智堅',\n",
       " '柯文哲',\n",
       " '楊文科',\n",
       " '楊鎮浯',\n",
       " '潘孟安',\n",
       " '王惠美',\n",
       " '盧秀燕',\n",
       " '翁章梁',\n",
       " '賴峰偉',\n",
       " '鄭文燦',\n",
       " '韓國瑜',\n",
       " '饒慶鈴',\n",
       " '黃偉哲',\n",
       " '黃敏惠'}"
      ]
     },
     "execution_count": 18,
     "metadata": {},
     "output_type": "execute_result"
    }
   ],
   "source": [
    "e18 #印出2018大選當選人"
   ]
  },
  {
   "cell_type": "code",
   "execution_count": 26,
   "id": "39dde4a4",
   "metadata": {},
   "outputs": [
    {
     "data": {
      "text/plain": [
       "{'侯友宜', '張麗善', '徐榛蔚', '林姿妙', '楊文科', '王惠美', '盧秀燕', '翁章梁', '饒慶鈴', '黃偉哲', '黃敏惠'}"
      ]
     },
     "execution_count": 26,
     "metadata": {},
     "output_type": "execute_result"
    }
   ],
   "source": [
    "e22.intersection(e18) #印出兩屆連任的候選人"
   ]
  },
  {
   "cell_type": "code",
   "execution_count": 32,
   "id": "41e8e86b",
   "metadata": {},
   "outputs": [
    {
     "name": "stdout",
     "output_type": "stream",
     "text": [
      "{'翁章梁', '潘孟安', '謝國樑', '蔣萬安', '陳福海', '柯文哲', '許淑華', '黃敏惠', '劉增應', '高虹安', '周春米', '徐耀昌', '盧秀燕', '張麗善', '鄭文燦', '林右昌', '賴峰偉', '侯友宜', '林智堅', '韓國瑜', '張善政', '王忠銘', '黃偉哲', '徐榛蔚', '饒慶鈴', '王惠美', '楊鎮浯', '林明溱', '陳光復', '陳其邁', '鍾東錦', '林姿妙', '楊文科'}\n"
     ]
    }
   ],
   "source": [
    "print(e22|e18) #印出所有當選過的人"
   ]
  },
  {
   "cell_type": "code",
   "execution_count": 33,
   "id": "e618651c",
   "metadata": {},
   "outputs": [
    {
     "data": {
      "text/plain": [
       "{'劉增應',\n",
       " '周春米',\n",
       " '張善政',\n",
       " '徐耀昌',\n",
       " '林右昌',\n",
       " '林明溱',\n",
       " '林智堅',\n",
       " '柯文哲',\n",
       " '楊鎮浯',\n",
       " '潘孟安',\n",
       " '王忠銘',\n",
       " '蔣萬安',\n",
       " '許淑華',\n",
       " '謝國樑',\n",
       " '賴峰偉',\n",
       " '鄭文燦',\n",
       " '鍾東錦',\n",
       " '陳光復',\n",
       " '陳其邁',\n",
       " '陳福海',\n",
       " '韓國瑜',\n",
       " '高虹安'}"
      ]
     },
     "execution_count": 33,
     "metadata": {},
     "output_type": "execute_result"
    }
   ],
   "source": [
    "e22.symmetric_difference(e18)"
   ]
  },
  {
   "cell_type": "code",
   "execution_count": 34,
   "id": "1b7cc3b1",
   "metadata": {},
   "outputs": [
    {
     "data": {
      "text/plain": [
       "{'周春米', '張善政', '王忠銘', '蔣萬安', '許淑華', '謝國樑', '鍾東錦', '陳光復', '陳其邁', '陳福海', '高虹安'}"
      ]
     },
     "execution_count": 34,
     "metadata": {},
     "output_type": "execute_result"
    }
   ],
   "source": [
    "e22.difference(e18) #印出新科縣市長當選人"
   ]
  },
  {
   "cell_type": "code",
   "execution_count": 35,
   "id": "fa3a4c02",
   "metadata": {},
   "outputs": [
    {
     "data": {
      "text/plain": [
       "{'劉增應', '徐耀昌', '林右昌', '林明溱', '林智堅', '柯文哲', '楊鎮浯', '潘孟安', '賴峰偉', '鄭文燦', '韓國瑜'}"
      ]
     },
     "execution_count": 35,
     "metadata": {},
     "output_type": "execute_result"
    }
   ],
   "source": [
    "e18.difference(e22) #印出連任失敗或期滿卸任的縣市長"
   ]
  }
 ],
 "metadata": {
  "kernelspec": {
   "display_name": "Python 3 (ipykernel)",
   "language": "python",
   "name": "python3"
  },
  "language_info": {
   "codemirror_mode": {
    "name": "ipython",
    "version": 3
   },
   "file_extension": ".py",
   "mimetype": "text/x-python",
   "name": "python",
   "nbconvert_exporter": "python",
   "pygments_lexer": "ipython3",
   "version": "3.9.12"
  }
 },
 "nbformat": 4,
 "nbformat_minor": 5
}
