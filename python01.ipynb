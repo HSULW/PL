{
 "cells": [
  {
   "cell_type": "code",
   "execution_count": 1,
   "id": "ae21d635",
   "metadata": {},
   "outputs": [],
   "source": [
    "str1 = '（一）查被告並未領有小型車普通駕駛執照，有證號查詢汽車駕駛人列印頁面1紙（見偵字卷第42頁）可參，是被告於案發時屬無駕駛執照之情形，又其駕車過失致告訴人受有附件犯罪事實欄所示之傷害。是核被告所為，係犯道路交通管理處罰條例第86條第1項、刑法第284條前段之汽車駕駛人，無駕駛執照駕車過失致人受傷罪，應依上開條例之規定加重其刑。'"
   ]
  },
  {
   "cell_type": "code",
   "execution_count": 2,
   "id": "84e6c2b3",
   "metadata": {},
   "outputs": [
    {
     "data": {
      "text/plain": [
       "'（一）查被告並未領有小型車普通駕駛執照，有證號查詢汽車駕駛人列印頁面1紙（見偵字卷第42頁）可參，是被告於案發時屬無駕駛執照之情形，又其駕車過失致告訴人受有附件犯罪事實欄所示之傷害。是核被告所為，係犯道路交通管理處罰條例第86條第1項、刑法第284條前段之汽車駕駛人，無駕駛執照駕車過失致人受傷罪，應依上開條例之規定加重其刑。'"
      ]
     },
     "execution_count": 2,
     "metadata": {},
     "output_type": "execute_result"
    }
   ],
   "source": [
    "str1"
   ]
  },
  {
   "cell_type": "code",
   "execution_count": 3,
   "id": "4b48ab3c",
   "metadata": {},
   "outputs": [
    {
     "name": "stdout",
     "output_type": "stream",
     "text": [
      "（一）查被告並未領有小型車普通駕駛執照，有證號查詢汽車駕駛人列印頁面1紙（見偵字卷第42頁）可參，是被告於案發時屬無駕駛執照之情形，又其駕車過失致告訴人受有附件犯罪事實欄所示之傷害。是核被告所為，係犯道路交通管理處罰條例第86條第1項、刑法第284條前段之汽車駕駛人，無駕駛執照駕車過失致人受傷罪，應依上開條例之規定加重其刑。\n"
     ]
    }
   ],
   "source": [
    "print(str1)"
   ]
  },
  {
   "cell_type": "code",
   "execution_count": null,
   "id": "9f344668",
   "metadata": {},
   "outputs": [],
   "source": []
  }
 ],
 "metadata": {
  "kernelspec": {
   "display_name": "Python 3 (ipykernel)",
   "language": "python",
   "name": "python3"
  },
  "language_info": {
   "codemirror_mode": {
    "name": "ipython",
    "version": 3
   },
   "file_extension": ".py",
   "mimetype": "text/x-python",
   "name": "python",
   "nbconvert_exporter": "python",
   "pygments_lexer": "ipython3",
   "version": "3.9.12"
  }
 },
 "nbformat": 4,
 "nbformat_minor": 5
}
