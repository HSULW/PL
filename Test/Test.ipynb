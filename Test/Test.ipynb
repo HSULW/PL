{
 "cells": [
  {
   "cell_type": "code",
   "execution_count": 39,
   "id": "95323539",
   "metadata": {},
   "outputs": [
    {
     "data": {
      "text/html": [
       "<div>\n",
       "<style scoped>\n",
       "    .dataframe tbody tr th:only-of-type {\n",
       "        vertical-align: middle;\n",
       "    }\n",
       "\n",
       "    .dataframe tbody tr th {\n",
       "        vertical-align: top;\n",
       "    }\n",
       "\n",
       "    .dataframe thead th {\n",
       "        text-align: right;\n",
       "    }\n",
       "</style>\n",
       "<table border=\"1\" class=\"dataframe\">\n",
       "  <thead>\n",
       "    <tr style=\"text-align: right;\">\n",
       "      <th></th>\n",
       "      <th>年度</th>\n",
       "      <th>地區別</th>\n",
       "      <th>月投保薪資等級</th>\n",
       "      <th>投保人數</th>\n",
       "    </tr>\n",
       "  </thead>\n",
       "  <tbody>\n",
       "    <tr>\n",
       "      <th>0</th>\n",
       "      <td>2022</td>\n",
       "      <td>宜蘭縣</td>\n",
       "      <td>25250</td>\n",
       "      <td>82681</td>\n",
       "    </tr>\n",
       "    <tr>\n",
       "      <th>1</th>\n",
       "      <td>2022</td>\n",
       "      <td>宜蘭縣</td>\n",
       "      <td>26400</td>\n",
       "      <td>3470</td>\n",
       "    </tr>\n",
       "    <tr>\n",
       "      <th>2</th>\n",
       "      <td>2022</td>\n",
       "      <td>宜蘭縣</td>\n",
       "      <td>27600</td>\n",
       "      <td>4415</td>\n",
       "    </tr>\n",
       "    <tr>\n",
       "      <th>3</th>\n",
       "      <td>2022</td>\n",
       "      <td>宜蘭縣</td>\n",
       "      <td>28800</td>\n",
       "      <td>3755</td>\n",
       "    </tr>\n",
       "    <tr>\n",
       "      <th>4</th>\n",
       "      <td>2022</td>\n",
       "      <td>宜蘭縣</td>\n",
       "      <td>30300</td>\n",
       "      <td>7071</td>\n",
       "    </tr>\n",
       "    <tr>\n",
       "      <th>...</th>\n",
       "      <td>...</td>\n",
       "      <td>...</td>\n",
       "      <td>...</td>\n",
       "      <td>...</td>\n",
       "    </tr>\n",
       "    <tr>\n",
       "      <th>195</th>\n",
       "      <td>2022</td>\n",
       "      <td>基隆市</td>\n",
       "      <td>28800</td>\n",
       "      <td>1895</td>\n",
       "    </tr>\n",
       "    <tr>\n",
       "      <th>196</th>\n",
       "      <td>2022</td>\n",
       "      <td>基隆市</td>\n",
       "      <td>30300</td>\n",
       "      <td>4794</td>\n",
       "    </tr>\n",
       "    <tr>\n",
       "      <th>197</th>\n",
       "      <td>2022</td>\n",
       "      <td>基隆市</td>\n",
       "      <td>31800</td>\n",
       "      <td>1864</td>\n",
       "    </tr>\n",
       "    <tr>\n",
       "      <th>198</th>\n",
       "      <td>2022</td>\n",
       "      <td>基隆市</td>\n",
       "      <td>33300</td>\n",
       "      <td>2379</td>\n",
       "    </tr>\n",
       "    <tr>\n",
       "      <th>199</th>\n",
       "      <td>2022</td>\n",
       "      <td>基隆市</td>\n",
       "      <td>34800</td>\n",
       "      <td>3561</td>\n",
       "    </tr>\n",
       "  </tbody>\n",
       "</table>\n",
       "<p>200 rows × 4 columns</p>\n",
       "</div>"
      ],
      "text/plain": [
       "       年度  地區別  月投保薪資等級   投保人數\n",
       "0    2022  宜蘭縣    25250  82681\n",
       "1    2022  宜蘭縣    26400   3470\n",
       "2    2022  宜蘭縣    27600   4415\n",
       "3    2022  宜蘭縣    28800   3755\n",
       "4    2022  宜蘭縣    30300   7071\n",
       "..    ...  ...      ...    ...\n",
       "195  2022  基隆市    28800   1895\n",
       "196  2022  基隆市    30300   4794\n",
       "197  2022  基隆市    31800   1864\n",
       "198  2022  基隆市    33300   2379\n",
       "199  2022  基隆市    34800   3561\n",
       "\n",
       "[200 rows x 4 columns]"
      ]
     },
     "execution_count": 39,
     "metadata": {},
     "output_type": "execute_result"
    }
   ],
   "source": [
    "import pandas as pd\n",
    "\n",
    "df_Insurance = pd.read_csv(\"df.csv\")\n",
    "df_Insurance.head(200)"
   ]
  },
  {
   "cell_type": "code",
   "execution_count": 40,
   "id": "91b96349",
   "metadata": {},
   "outputs": [
    {
     "data": {
      "text/plain": [
       "163660"
      ]
     },
     "execution_count": 40,
     "metadata": {},
     "output_type": "execute_result"
    }
   ],
   "source": [
    "#找出宜蘭縣總投保人數\n",
    "\n",
    "total_number = df_Insurance[df_Insurance['地區別'] == \"宜蘭縣\"]['投保人數'].sum()\n",
    "total_number"
   ]
  },
  {
   "cell_type": "code",
   "execution_count": 93,
   "id": "d49fd51f",
   "metadata": {},
   "outputs": [],
   "source": [
    "n = [\"臺北市\", \"新北市\", \"基隆市\", \"桃園縣\", \"新竹縣\"]\n",
    "c = [\"苗栗縣\", \"臺中市\", \"雲林縣\", \"南投縣\", \"彰化縣\"]\n",
    "s = [\"雲林縣\", \"嘉義縣\", \"臺南市\", \"高雄市\", \"屏東市\"]"
   ]
  },
  {
   "cell_type": "code",
   "execution_count": 94,
   "id": "9309ebda",
   "metadata": {},
   "outputs": [
    {
     "name": "stdout",
     "output_type": "stream",
     "text": [
      "4425411\n"
     ]
    }
   ],
   "source": [
    "#北部地區總投保人數\n",
    "\n",
    "result = df_Insurance['地區別'].isin(n)\n",
    "northArea = df_Insurance[result]\n",
    "total_north = northArea['投保人數'].sum()\n",
    "print(total_north)"
   ]
  }
 ],
 "metadata": {
  "kernelspec": {
   "display_name": "Python 3 (ipykernel)",
   "language": "python",
   "name": "python3"
  },
  "language_info": {
   "codemirror_mode": {
    "name": "ipython",
    "version": 3
   },
   "file_extension": ".py",
   "mimetype": "text/x-python",
   "name": "python",
   "nbconvert_exporter": "python",
   "pygments_lexer": "ipython3",
   "version": "3.9.12"
  }
 },
 "nbformat": 4,
 "nbformat_minor": 5
}
