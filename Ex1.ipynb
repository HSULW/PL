{
 "cells": [
  {
   "cell_type": "code",
   "execution_count": 1,
   "id": "a99070c2",
   "metadata": {},
   "outputs": [
    {
     "name": "stdout",
     "output_type": "stream",
     "text": [
      "判決結果： 車禍肇事判賠\n",
      "原告需賠償金額: 7706 元\n",
      "被告需賠償金額: 17981 元\n"
     ]
    }
   ],
   "source": [
    "R = '車禍肇事判賠'\n",
    "money = 25688\n",
    "a = 0.3\n",
    "b = 0.7\n",
    "\n",
    "a_money = money * a\n",
    "b_money = money * b\n",
    "\n",
    "print('判決結果：',R)\n",
    "print('原告需賠償金額:',int(a_money),\"元\")\n",
    "print('被告需賠償金額:',int(b_money),\"元\")"
   ]
  },
  {
   "cell_type": "code",
   "execution_count": null,
   "id": "c6a159e5",
   "metadata": {},
   "outputs": [],
   "source": [
    "print(\"Hello World!\")"
   ]
  }
 ],
 "metadata": {
  "kernelspec": {
   "display_name": "Python 3 (ipykernel)",
   "language": "python",
   "name": "python3"
  },
  "language_info": {
   "codemirror_mode": {
    "name": "ipython",
    "version": 3
   },
   "file_extension": ".py",
   "mimetype": "text/x-python",
   "name": "python",
   "nbconvert_exporter": "python",
   "pygments_lexer": "ipython3",
   "version": "3.9.12"
  }
 },
 "nbformat": 4,
 "nbformat_minor": 5
}
