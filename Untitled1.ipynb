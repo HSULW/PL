{
 "cells": [
  {
   "cell_type": "code",
   "execution_count": 1,
   "id": "0f4be2fa",
   "metadata": {},
   "outputs": [],
   "source": [
    "data_seg_list = orgdata['seg'].tolist()\n",
    "type(data_seg_list)\n",
    "flat = [x for datalist in data_seg_list for x in datalist]\n",
    "diction = Counter(flat)\n",
    "\n",
    "from PIL import Image\n",
    "import matplotlib.pyplot as plt\n",
    "from wordcloud import WordCloud\n",
    "\n",
    "mask = np.array(Image.open(\"sea.png\"))\n",
    "font = \"/System/Library/Fonts/Supplemental/Songti.ttc\"\n",
    "\n",
    "wordcloud = WordCloud(background_color = \"white\", font_path=font, mask = mask)\n",
    "wordcloud.generate_from_frequencies(diction)\n",
    "\n",
    "plt.figure(figsize=(15,20))\n",
    "plt.imshow(wordcloud)\n",
    "plt.axis(\"off\")\n",
    "plt.show()"
   ]
  }
 ],
 "metadata": {
  "kernelspec": {
   "display_name": "Python 3 (ipykernel)",
   "language": "python",
   "name": "python3"
  },
  "language_info": {
   "codemirror_mode": {
    "name": "ipython",
    "version": 3
   },
   "file_extension": ".py",
   "mimetype": "text/x-python",
   "name": "python",
   "nbconvert_exporter": "python",
   "pygments_lexer": "ipython3",
   "version": "3.9.12"
  }
 },
 "nbformat": 4,
 "nbformat_minor": 5
}
