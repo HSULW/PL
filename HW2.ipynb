{
 "cells": [
  {
   "cell_type": "code",
   "execution_count": 40,
   "id": "bad6656d",
   "metadata": {},
   "outputs": [
    {
     "data": {
      "text/plain": [
       "dict"
      ]
     },
     "execution_count": 40,
     "metadata": {},
     "output_type": "execute_result"
    }
   ],
   "source": [
    "import json\n",
    "\n",
    "test = open('Attractions.json',encoding = \"utf8\")\n",
    "Data = json.load(test)\n",
    "type(Data)"
   ]
  },
  {
   "cell_type": "code",
   "execution_count": 41,
   "id": "4c79730f",
   "metadata": {},
   "outputs": [
    {
     "name": "stdout",
     "output_type": "stream",
     "text": [
      "{'Area': [{'attractions': '故宮博物院', 'place': '台北市', 'year': '1925'}, {'attractions': '烏山頭水庫', 'place': '台南市', 'year': '1930'}, {'attractions': '85大樓', 'place': '高雄市', 'year': '1999'}, {'attractions': '海生館', 'place': '屏東縣', 'year': '2000'}]}\n"
     ]
    }
   ],
   "source": [
    "print(Data)"
   ]
  },
  {
   "cell_type": "code",
   "execution_count": 42,
   "id": "bd081668",
   "metadata": {},
   "outputs": [
    {
     "data": {
      "text/plain": [
       "[{'attractions': '故宮博物院', 'place': '台北市', 'year': '1925'},\n",
       " {'attractions': '烏山頭水庫', 'place': '台南市', 'year': '1930'},\n",
       " {'attractions': '85大樓', 'place': '高雄市', 'year': '1999'},\n",
       " {'attractions': '海生館', 'place': '屏東縣', 'year': '2000'}]"
      ]
     },
     "execution_count": 42,
     "metadata": {},
     "output_type": "execute_result"
    }
   ],
   "source": [
    "temp = Data.get('Area')\n",
    "temp"
   ]
  },
  {
   "cell_type": "code",
   "execution_count": 43,
   "id": "ee9aa4f5",
   "metadata": {},
   "outputs": [],
   "source": [
    "#查詢景點所在縣市\n",
    "Ask = '故宮博物院'"
   ]
  },
  {
   "cell_type": "code",
   "execution_count": 30,
   "id": "98e56221",
   "metadata": {},
   "outputs": [
    {
     "name": "stdout",
     "output_type": "stream",
     "text": [
      "故宮博物院 位在 台北市\n"
     ]
    }
   ],
   "source": [
    "for i in temp:\n",
    "    if Ask == i.get('attractions'):\n",
    "        print(Ask, '位在', i.get('place'))    "
   ]
  },
  {
   "cell_type": "code",
   "execution_count": 44,
   "id": "39b4fdb2",
   "metadata": {},
   "outputs": [
    {
     "data": {
      "text/plain": [
       "['1925', '1930', '1999', '2000']"
      ]
     },
     "execution_count": 44,
     "metadata": {},
     "output_type": "execute_result"
    }
   ],
   "source": [
    "#排序年份\n",
    "\n",
    "allage = []\n",
    "for i in temp:\n",
    "    allage.append(i.get('year'))\n",
    "allage"
   ]
  },
  {
   "cell_type": "code",
   "execution_count": 47,
   "id": "25f91c11",
   "metadata": {},
   "outputs": [],
   "source": [
    "allage_enumerate = enumerate(allage, start = 1)"
   ]
  },
  {
   "cell_type": "code",
   "execution_count": 48,
   "id": "c673591d",
   "metadata": {},
   "outputs": [
    {
     "data": {
      "text/plain": [
       "[(4, '2000'), (3, '1999'), (2, '1930'), (1, '1925')]"
      ]
     },
     "execution_count": 48,
     "metadata": {},
     "output_type": "execute_result"
    }
   ],
   "source": [
    "allage_enumerate_sorted = sorted(allage_enumerate, key = lambda s: s[1], reverse = True)\n",
    "allage_enumerate_sorted"
   ]
  },
  {
   "cell_type": "code",
   "execution_count": 49,
   "id": "3883c012",
   "metadata": {},
   "outputs": [
    {
     "data": {
      "text/plain": [
       "4"
      ]
     },
     "execution_count": 49,
     "metadata": {},
     "output_type": "execute_result"
    }
   ],
   "source": [
    "allage_enumerate_sorted[0][0]"
   ]
  },
  {
   "cell_type": "code",
   "execution_count": 51,
   "id": "2859331a",
   "metadata": {},
   "outputs": [
    {
     "name": "stdout",
     "output_type": "stream",
     "text": [
      "海生館 位在 屏東縣 落成於 2000 年\n",
      "85大樓 位在 高雄市 落成於 1999 年\n",
      "烏山頭水庫 位在 台南市 落成於 1930 年\n",
      "故宮博物院 位在 台北市 落成於 1925 年\n"
     ]
    }
   ],
   "source": [
    "# 印出排序過後的景點資訊\n",
    "\n",
    "for i in allage_enumerate_sorted:\n",
    "    j = i[0] - 1\n",
    "    print(temp[j].get('attractions'), '位在',temp[j].get('place'), '落成於', temp[j].get('year'), '年')"
   ]
  },
  {
   "cell_type": "code",
   "execution_count": null,
   "id": "b8e4aacc",
   "metadata": {},
   "outputs": [],
   "source": []
  }
 ],
 "metadata": {
  "kernelspec": {
   "display_name": "Python 3 (ipykernel)",
   "language": "python",
   "name": "python3"
  },
  "language_info": {
   "codemirror_mode": {
    "name": "ipython",
    "version": 3
   },
   "file_extension": ".py",
   "mimetype": "text/x-python",
   "name": "python",
   "nbconvert_exporter": "python",
   "pygments_lexer": "ipython3",
   "version": "3.9.12"
  }
 },
 "nbformat": 4,
 "nbformat_minor": 5
}
